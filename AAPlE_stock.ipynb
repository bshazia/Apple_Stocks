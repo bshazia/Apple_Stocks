{
 "cells": [
  {
   "cell_type": "code",
   "execution_count": null,
   "metadata": {},
   "outputs": [],
   "source": [
    "!pip install yfinance==0.2.12\n",
    "!pip install pandas_market_calendars\n"
   ]
  },
  {
   "attachments": {},
   "cell_type": "markdown",
   "metadata": {},
   "source": [
    "Library import"
   ]
  },
  {
   "cell_type": "code",
   "execution_count": 7,
   "metadata": {},
   "outputs": [],
   "source": [
    "import yfinance as yf\n",
    "import pandas as pd\n",
    "import numpy as np\n",
    "from sklearn.metrics import mean_squared_error, mean_absolute_error\n",
    "from prophet import Prophet\n",
    "from tensorflow.keras.layers import Dense\n",
    "from sklearn.model_selection import train_test_split\n",
    "import datetime \n",
    "from tensorflow.keras.layers import Input,LSTM\n",
    "from tensorflow.keras.models import Sequential \n",
    "\n"
   ]
  },
  {
   "attachments": {},
   "cell_type": "markdown",
   "metadata": {},
   "source": [
    "Step 1: Data Collection"
   ]
  },
  {
   "cell_type": "code",
   "execution_count": 8,
   "metadata": {},
   "outputs": [
    {
     "name": "stdout",
     "output_type": "stream",
     "text": [
      "[*********************100%***********************]  1 of 1 completed\n",
      "[*********************100%***********************]  1 of 1 completed\n"
     ]
    },
    {
     "name": "stderr",
     "output_type": "stream",
     "text": [
      "/Users/bsjatoi/Library/Python/3.9/lib/python/site-packages/yfinance/utils.py:517: FutureWarning: Series.__getitem__ treating keys as positions is deprecated. In a future version, integer keys will always be treated as labels (consistent with DataFrame behavior). To access a value by position, use `ser.iloc[pos]`\n",
      "  quotes.loc[idx2, \"High\"] = _np.nanmax([quotes[\"High\"][n - 1], quotes[\"High\"][n - 2]])\n",
      "/Users/bsjatoi/Library/Python/3.9/lib/python/site-packages/yfinance/utils.py:518: FutureWarning: Series.__getitem__ treating keys as positions is deprecated. In a future version, integer keys will always be treated as labels (consistent with DataFrame behavior). To access a value by position, use `ser.iloc[pos]`\n",
      "  quotes.loc[idx2, \"Low\"] = _np.nanmin([quotes[\"Low\"][n - 1], quotes[\"Low\"][n - 2]])\n",
      "/Users/bsjatoi/Library/Python/3.9/lib/python/site-packages/yfinance/utils.py:519: FutureWarning: Series.__getitem__ treating keys as positions is deprecated. In a future version, integer keys will always be treated as labels (consistent with DataFrame behavior). To access a value by position, use `ser.iloc[pos]`\n",
      "  quotes.loc[idx2, \"Close\"] = quotes[\"Close\"][n - 1]\n",
      "/Users/bsjatoi/Library/Python/3.9/lib/python/site-packages/yfinance/utils.py:525: FutureWarning: Series.__getitem__ treating keys as positions is deprecated. In a future version, integer keys will always be treated as labels (consistent with DataFrame behavior). To access a value by position, use `ser.iloc[pos]`\n",
      "  quotes.loc[idx2, \"Adj Close\"] = quotes[\"Adj Close\"][n - 1]\n",
      "/Users/bsjatoi/Library/Python/3.9/lib/python/site-packages/yfinance/utils.py:526: FutureWarning: Series.__getitem__ treating keys as positions is deprecated. In a future version, integer keys will always be treated as labels (consistent with DataFrame behavior). To access a value by position, use `ser.iloc[pos]`\n",
      "  quotes.loc[idx2, \"Volume\"] += quotes[\"Volume\"][n - 1]\n"
     ]
    }
   ],
   "source": [
    "#daily data for past 10 years\n",
    "data_daily_copy = yf.download(\"AAPL\", period=\"10y\", interval=\"1d\")\n",
    "data_daily_copy.to_csv('AAPL_daily_data.csv')\n",
    "\n",
    "#monthly data for past 10 years\n",
    "data_monthly = yf.download(\"AAPL\", period=\"10y\", interval=\"1mo\")\n",
    "data_monthly.to_csv('AAPL_monthly_data.csv')\n"
   ]
  },
  {
   "cell_type": "code",
   "execution_count": 9,
   "metadata": {},
   "outputs": [
    {
     "data": {
      "text/html": [
       "<div>\n",
       "<style scoped>\n",
       "    .dataframe tbody tr th:only-of-type {\n",
       "        vertical-align: middle;\n",
       "    }\n",
       "\n",
       "    .dataframe tbody tr th {\n",
       "        vertical-align: top;\n",
       "    }\n",
       "\n",
       "    .dataframe thead th {\n",
       "        text-align: right;\n",
       "    }\n",
       "</style>\n",
       "<table border=\"1\" class=\"dataframe\">\n",
       "  <thead>\n",
       "    <tr style=\"text-align: right;\">\n",
       "      <th></th>\n",
       "      <th>Open</th>\n",
       "      <th>High</th>\n",
       "      <th>Low</th>\n",
       "      <th>Close</th>\n",
       "      <th>Adj Close</th>\n",
       "      <th>Volume</th>\n",
       "    </tr>\n",
       "    <tr>\n",
       "      <th>Date</th>\n",
       "      <th></th>\n",
       "      <th></th>\n",
       "      <th></th>\n",
       "      <th></th>\n",
       "      <th></th>\n",
       "      <th></th>\n",
       "    </tr>\n",
       "  </thead>\n",
       "  <tbody>\n",
       "    <tr>\n",
       "      <th>2015-05-15</th>\n",
       "      <td>32.267502</td>\n",
       "      <td>32.372501</td>\n",
       "      <td>32.052502</td>\n",
       "      <td>32.192501</td>\n",
       "      <td>28.975080</td>\n",
       "      <td>152832000</td>\n",
       "    </tr>\n",
       "    <tr>\n",
       "      <th>2023-03-29</th>\n",
       "      <td>159.369995</td>\n",
       "      <td>161.050003</td>\n",
       "      <td>159.350006</td>\n",
       "      <td>160.770004</td>\n",
       "      <td>159.699814</td>\n",
       "      <td>51305700</td>\n",
       "    </tr>\n",
       "    <tr>\n",
       "      <th>2020-06-10</th>\n",
       "      <td>86.974998</td>\n",
       "      <td>88.692497</td>\n",
       "      <td>86.522499</td>\n",
       "      <td>88.209999</td>\n",
       "      <td>86.147217</td>\n",
       "      <td>166651600</td>\n",
       "    </tr>\n",
       "    <tr>\n",
       "      <th>2024-05-13</th>\n",
       "      <td>185.440002</td>\n",
       "      <td>187.100006</td>\n",
       "      <td>184.619995</td>\n",
       "      <td>186.279999</td>\n",
       "      <td>186.279999</td>\n",
       "      <td>72044800</td>\n",
       "    </tr>\n",
       "    <tr>\n",
       "      <th>2015-01-07</th>\n",
       "      <td>26.799999</td>\n",
       "      <td>27.049999</td>\n",
       "      <td>26.674999</td>\n",
       "      <td>26.937500</td>\n",
       "      <td>24.049515</td>\n",
       "      <td>160423600</td>\n",
       "    </tr>\n",
       "  </tbody>\n",
       "</table>\n",
       "</div>"
      ],
      "text/plain": [
       "                  Open        High         Low       Close   Adj Close  \\\n",
       "Date                                                                     \n",
       "2015-05-15   32.267502   32.372501   32.052502   32.192501   28.975080   \n",
       "2023-03-29  159.369995  161.050003  159.350006  160.770004  159.699814   \n",
       "2020-06-10   86.974998   88.692497   86.522499   88.209999   86.147217   \n",
       "2024-05-13  185.440002  187.100006  184.619995  186.279999  186.279999   \n",
       "2015-01-07   26.799999   27.049999   26.674999   26.937500   24.049515   \n",
       "\n",
       "               Volume  \n",
       "Date                   \n",
       "2015-05-15  152832000  \n",
       "2023-03-29   51305700  \n",
       "2020-06-10  166651600  \n",
       "2024-05-13   72044800  \n",
       "2015-01-07  160423600  "
      ]
     },
     "execution_count": 9,
     "metadata": {},
     "output_type": "execute_result"
    }
   ],
   "source": [
    "data_daily_copy.sample(5)"
   ]
  },
  {
   "cell_type": "code",
   "execution_count": 10,
   "metadata": {},
   "outputs": [],
   "source": [
    "#remove one week\n",
    "one_week_ago = datetime.date.today() - datetime.timedelta(days=7)\n",
    "data_daily = data_daily_copy[data_daily_copy.index < pd.Timestamp(one_week_ago)]\n",
    "data_daily.to_csv('AAPL_data_daily_Week_back.csv')"
   ]
  },
  {
   "cell_type": "code",
   "execution_count": 11,
   "metadata": {},
   "outputs": [
    {
     "name": "stdout",
     "output_type": "stream",
     "text": [
      "<class 'pandas.core.frame.DataFrame'>\n",
      "DatetimeIndex: 120 entries, 2014-09-01 to 2024-08-01\n",
      "Data columns (total 6 columns):\n",
      " #   Column     Non-Null Count  Dtype  \n",
      "---  ------     --------------  -----  \n",
      " 0   Open       120 non-null    float64\n",
      " 1   High       120 non-null    float64\n",
      " 2   Low        120 non-null    float64\n",
      " 3   Close      120 non-null    float64\n",
      " 4   Adj Close  120 non-null    float64\n",
      " 5   Volume     120 non-null    int64  \n",
      "dtypes: float64(5), int64(1)\n",
      "memory usage: 6.6 KB\n"
     ]
    }
   ],
   "source": [
    "data_monthly.info()"
   ]
  },
  {
   "cell_type": "code",
   "execution_count": null,
   "metadata": {},
   "outputs": [],
   "source": []
  }
 ],
 "metadata": {
  "kernelspec": {
   "display_name": "Python 3",
   "language": "python",
   "name": "python3"
  },
  "language_info": {
   "codemirror_mode": {
    "name": "ipython",
    "version": 3
   },
   "file_extension": ".py",
   "mimetype": "text/x-python",
   "name": "python",
   "nbconvert_exporter": "python",
   "pygments_lexer": "ipython3",
   "version": "3.9.6"
  },
  "orig_nbformat": 4
 },
 "nbformat": 4,
 "nbformat_minor": 2
}
